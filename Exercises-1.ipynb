{
 "cells": [
  {
   "cell_type": "code",
   "execution_count": 1,
   "metadata": {},
   "outputs": [],
   "source": [
    "# Variables - 1\n",
    "#1"
   ]
  },
  {
   "cell_type": "code",
   "execution_count": 8,
   "metadata": {},
   "outputs": [],
   "source": [
    "x = 'snack'"
   ]
  },
  {
   "cell_type": "code",
   "execution_count": 10,
   "metadata": {},
   "outputs": [],
   "source": [
    "y = 'biscuits '"
   ]
  },
  {
   "cell_type": "code",
   "execution_count": 12,
   "metadata": {},
   "outputs": [
    {
     "name": "stdout",
     "output_type": "stream",
     "text": [
      "snackbiscuits snackbiscuits snackbiscuits snackbiscuits snackbiscuits snackbiscuits snackbiscuits snackbiscuits snackbiscuits snackbiscuits snackbiscuits snackbiscuits snackbiscuits snackbiscuits snackbiscuits snackbiscuits snackbiscuits snackbiscuits snackbiscuits snackbiscuits snackbiscuits snackbiscuits snackbiscuits snackbiscuits snackbiscuits snackbiscuits snackbiscuits snackbiscuits snackbiscuits snackbiscuits snackbiscuits snackbiscuits snackbiscuits snackbiscuits snackbiscuits snackbiscuits snackbiscuits snackbiscuits snackbiscuits snackbiscuits snackbiscuits snackbiscuits snackbiscuits snackbiscuits snackbiscuits snackbiscuits snackbiscuits snackbiscuits snackbiscuits snackbiscuits snackbiscuits snackbiscuits snackbiscuits snackbiscuits snackbiscuits snackbiscuits snackbiscuits snackbiscuits snackbiscuits snackbiscuits snackbiscuits snackbiscuits snackbiscuits snackbiscuits snackbiscuits snackbiscuits snackbiscuits snackbiscuits snackbiscuits snackbiscuits snackbiscuits snackbiscuits snackbiscuits snackbiscuits snackbiscuits snackbiscuits snackbiscuits snackbiscuits snackbiscuits snackbiscuits snackbiscuits snackbiscuits snackbiscuits snackbiscuits snackbiscuits snackbiscuits snackbiscuits snackbiscuits snackbiscuits snackbiscuits snackbiscuits snackbiscuits snackbiscuits snackbiscuits snackbiscuits snackbiscuits snackbiscuits snackbiscuits snackbiscuits snackbiscuits \n"
     ]
    }
   ],
   "source": [
    "c = x+y\n",
    "print(c*100)"
   ]
  },
  {
   "cell_type": "code",
   "execution_count": 13,
   "metadata": {},
   "outputs": [],
   "source": [
    "l = ['banana', 'snack', 'biscuits', 'lime', 'apple']"
   ]
  },
  {
   "cell_type": "code",
   "execution_count": 17,
   "metadata": {},
   "outputs": [
    {
     "data": {
      "text/plain": [
       "False"
      ]
     },
     "execution_count": 17,
     "metadata": {},
     "output_type": "execute_result"
    }
   ],
   "source": [
    "isinstance(x, type(l))"
   ]
  },
  {
   "cell_type": "code",
   "execution_count": 18,
   "metadata": {},
   "outputs": [
    {
     "data": {
      "text/plain": [
       "True"
      ]
     },
     "execution_count": 18,
     "metadata": {},
     "output_type": "execute_result"
    }
   ],
   "source": [
    "x in l"
   ]
  },
  {
   "cell_type": "code",
   "execution_count": 19,
   "metadata": {},
   "outputs": [
    {
     "data": {
      "text/plain": [
       "False"
      ]
     },
     "execution_count": 19,
     "metadata": {},
     "output_type": "execute_result"
    }
   ],
   "source": [
    "y in l"
   ]
  },
  {
   "cell_type": "code",
   "execution_count": 20,
   "metadata": {},
   "outputs": [],
   "source": [
    "x,y=y,x"
   ]
  },
  {
   "cell_type": "code",
   "execution_count": 21,
   "metadata": {},
   "outputs": [
    {
     "data": {
      "text/plain": [
       "'biscuits '"
      ]
     },
     "execution_count": 21,
     "metadata": {},
     "output_type": "execute_result"
    }
   ],
   "source": [
    "x"
   ]
  },
  {
   "cell_type": "code",
   "execution_count": 22,
   "metadata": {},
   "outputs": [
    {
     "data": {
      "text/plain": [
       "'snack'"
      ]
     },
     "execution_count": 22,
     "metadata": {},
     "output_type": "execute_result"
    }
   ],
   "source": [
    "y"
   ]
  },
  {
   "cell_type": "code",
   "execution_count": 23,
   "metadata": {},
   "outputs": [],
   "source": [
    "# Functions -2"
   ]
  },
  {
   "cell_type": "code",
   "execution_count": 24,
   "metadata": {},
   "outputs": [],
   "source": [
    "#1-5"
   ]
  },
  {
   "cell_type": "code",
   "execution_count": 43,
   "metadata": {},
   "outputs": [],
   "source": [
    "grocery_price = [9.42, 5.67, 3.25, 13.40, 7.50]"
   ]
  },
  {
   "cell_type": "code",
   "execution_count": 26,
   "metadata": {},
   "outputs": [
    {
     "data": {
      "text/plain": [
       "3.25"
      ]
     },
     "execution_count": 26,
     "metadata": {},
     "output_type": "execute_result"
    }
   ],
   "source": [
    "min(grocery_price)"
   ]
  },
  {
   "cell_type": "code",
   "execution_count": 27,
   "metadata": {},
   "outputs": [
    {
     "data": {
      "text/plain": [
       "13.4"
      ]
     },
     "execution_count": 27,
     "metadata": {},
     "output_type": "execute_result"
    }
   ],
   "source": [
    "max(grocery_price)"
   ]
  },
  {
   "cell_type": "code",
   "execution_count": 28,
   "metadata": {},
   "outputs": [],
   "source": [
    "import random"
   ]
  },
  {
   "cell_type": "code",
   "execution_count": 29,
   "metadata": {},
   "outputs": [
    {
     "name": "stdout",
     "output_type": "stream",
     "text": [
      "Help on method randint in module random:\n",
      "\n",
      "randint(a, b) method of random.Random instance\n",
      "    Return random integer in range [a, b], including both end points.\n",
      "\n"
     ]
    }
   ],
   "source": [
    "help(random.randint)"
   ]
  },
  {
   "cell_type": "code",
   "execution_count": 30,
   "metadata": {},
   "outputs": [
    {
     "data": {
      "text/plain": [
       "69"
      ]
     },
     "execution_count": 30,
     "metadata": {},
     "output_type": "execute_result"
    }
   ],
   "source": [
    "random.randint(1,101)"
   ]
  },
  {
   "cell_type": "code",
   "execution_count": 39,
   "metadata": {},
   "outputs": [
    {
     "name": "stdout",
     "output_type": "stream",
     "text": [
      "biscuits biscuits biscuits biscuits biscuits biscuits biscuits biscuits biscuits biscuits biscuits biscuits biscuits biscuits biscuits biscuits biscuits biscuits biscuits biscuits biscuits biscuits biscuits biscuits biscuits biscuits biscuits biscuits biscuits biscuits biscuits biscuits biscuits biscuits biscuits biscuits biscuits biscuits biscuits biscuits biscuits biscuits biscuits biscuits biscuits biscuits biscuits biscuits biscuits biscuits biscuits biscuits biscuits biscuits biscuits \n"
     ]
    }
   ],
   "source": [
    "print(random.randint(0,100)*x)"
   ]
  },
  {
   "cell_type": "code",
   "execution_count": 44,
   "metadata": {},
   "outputs": [],
   "source": [
    "import random"
   ]
  },
  {
   "cell_type": "code",
   "execution_count": 47,
   "metadata": {},
   "outputs": [
    {
     "data": {
      "text/plain": [
       "982"
      ]
     },
     "execution_count": 47,
     "metadata": {},
     "output_type": "execute_result"
    }
   ],
   "source": [
    "random.randint(1,1100)"
   ]
  },
  {
   "cell_type": "code",
   "execution_count": 51,
   "metadata": {},
   "outputs": [],
   "source": [
    "import random"
   ]
  },
  {
   "cell_type": "code",
   "execution_count": 63,
   "metadata": {},
   "outputs": [
    {
     "data": {
      "text/plain": [
       "5"
      ]
     },
     "execution_count": 63,
     "metadata": {},
     "output_type": "execute_result"
    }
   ],
   "source": [
    "len(grocery_price)"
   ]
  },
  {
   "cell_type": "code",
   "execution_count": 93,
   "metadata": {},
   "outputs": [
    {
     "name": "stdout",
     "output_type": "stream",
     "text": [
      "5\n"
     ]
    }
   ],
   "source": [
    "print(int(grocery_price[random.randint(0, len(grocery_price))]))"
   ]
  },
  {
   "cell_type": "code",
   "execution_count": null,
   "metadata": {},
   "outputs": [],
   "source": [
    "#Making your functions exercises"
   ]
  },
  {
   "cell_type": "code",
   "execution_count": 115,
   "metadata": {},
   "outputs": [],
   "source": [
    "def all_the_snacks(x, spacer=' '):\n",
    "    a='snacks'\n",
    "    b=a+spacer\n",
    "    return b*x"
   ]
  },
  {
   "cell_type": "code",
   "execution_count": 116,
   "metadata": {},
   "outputs": [
    {
     "data": {
      "text/plain": [
       "'snacks snacks snacks snacks snacks snacks snacks snacks snacks snacks snacks snacks snacks snacks snacks snacks snacks snacks snacks snacks snacks snacks snacks snacks snacks snacks snacks snacks snacks snacks snacks snacks snacks snacks snacks snacks snacks snacks snacks snacks snacks snacks snacks snacks snacks snacks snacks snacks snacks snacks snacks snacks snacks snacks snacks snacks snacks snacks snacks snacks snacks snacks snacks snacks snacks snacks snacks snacks snacks snacks snacks snacks snacks snacks snacks snacks snacks snacks snacks snacks snacks snacks snacks snacks snacks snacks snacks snacks snacks snacks snacks snacks snacks snacks snacks snacks snacks snacks snacks snacks '"
      ]
     },
     "execution_count": 116,
     "metadata": {},
     "output_type": "execute_result"
    }
   ],
   "source": [
    "all_the_snacks(100)"
   ]
  },
  {
   "cell_type": "code",
   "execution_count": 120,
   "metadata": {},
   "outputs": [],
   "source": [
    "def in_grocery_list(x):\n",
    "    grocery_item=['Mango', 'Telephone', 'Candy', 'Lollypop']\n",
    "    return x in grocery_item"
   ]
  },
  {
   "cell_type": "code",
   "execution_count": 122,
   "metadata": {},
   "outputs": [
    {
     "data": {
      "text/plain": [
       "False"
      ]
     },
     "execution_count": 122,
     "metadata": {},
     "output_type": "execute_result"
    }
   ],
   "source": [
    "in_grocery_list('Mambo')"
   ]
  },
  {
   "cell_type": "code",
   "execution_count": 50,
   "metadata": {},
   "outputs": [],
   "source": [
    "import random\n",
    "def price_matcher():\n",
    "    grocer_item=['Mango', 'Telephone', 'Candy', 'Lollypop', 'Banana']\n",
    "    grocer_price = [9.42, 5.67, 3.25, 13.40, 7.50]\n",
    "    return str(grocer_item[random.randint(0, len(grocer_item)-1)])+' '+str(grocer_price[(random.randint(0, len(grocer_price)-1))])"
   ]
  },
  {
   "cell_type": "code",
   "execution_count": 59,
   "metadata": {},
   "outputs": [
    {
     "data": {
      "text/plain": [
       "'Lollypop 9.42'"
      ]
     },
     "execution_count": 59,
     "metadata": {},
     "output_type": "execute_result"
    }
   ],
   "source": [
    "price_matcher()"
   ]
  },
  {
   "cell_type": "code",
   "execution_count": 1,
   "metadata": {},
   "outputs": [],
   "source": [
    "def all_the_snacks(num=100, spacer=','):\n",
    "    a='snacks'\n",
    "    b=a+spacer\n",
    "    return b*num"
   ]
  },
  {
   "cell_type": "code",
   "execution_count": 2,
   "metadata": {},
   "outputs": [
    {
     "data": {
      "text/plain": [
       "'snacks,snacks,snacks,snacks,snacks,snacks,snacks,snacks,snacks,snacks,snacks,snacks,snacks,snacks,snacks,snacks,snacks,snacks,snacks,snacks,snacks,snacks,snacks,snacks,snacks,snacks,snacks,snacks,snacks,snacks,snacks,snacks,snacks,snacks,snacks,snacks,snacks,snacks,snacks,snacks,snacks,snacks,snacks,snacks,snacks,snacks,snacks,snacks,snacks,snacks,snacks,snacks,snacks,snacks,snacks,snacks,snacks,snacks,snacks,snacks,snacks,snacks,snacks,snacks,snacks,snacks,snacks,snacks,snacks,snacks,snacks,snacks,snacks,snacks,snacks,snacks,snacks,snacks,snacks,snacks,snacks,snacks,snacks,snacks,snacks,snacks,snacks,snacks,snacks,snacks,snacks,snacks,snacks,snacks,snacks,snacks,snacks,snacks,snacks,snacks,'"
      ]
     },
     "execution_count": 2,
     "metadata": {},
     "output_type": "execute_result"
    }
   ],
   "source": [
    "all_the_snacks()"
   ]
  },
  {
   "cell_type": "code",
   "execution_count": 3,
   "metadata": {},
   "outputs": [],
   "source": [
    "def all_the_snacks(num, spacer='| '):\n",
    "    a='snacks'\n",
    "    b=a+spacer\n",
    "    return b*num"
   ]
  },
  {
   "cell_type": "code",
   "execution_count": 7,
   "metadata": {},
   "outputs": [],
   "source": [
    "#Scope-3"
   ]
  },
  {
   "cell_type": "code",
   "execution_count": 8,
   "metadata": {},
   "outputs": [
    {
     "name": "stdout",
     "output_type": "stream",
     "text": [
      "Please enter your favourite colorgreen\n"
     ]
    }
   ],
   "source": [
    "my_color=input('Please enter your favourite color')"
   ]
  },
  {
   "cell_type": "code",
   "execution_count": 9,
   "metadata": {},
   "outputs": [
    {
     "data": {
      "text/plain": [
       "'green'"
      ]
     },
     "execution_count": 9,
     "metadata": {},
     "output_type": "execute_result"
    }
   ],
   "source": [
    "my_color"
   ]
  },
  {
   "cell_type": "code",
   "execution_count": 10,
   "metadata": {},
   "outputs": [
    {
     "name": "stdout",
     "output_type": "stream",
     "text": [
      "What is your favorite color?blue\n"
     ]
    }
   ],
   "source": [
    "neighbor_color=input('What is your favorite color?')"
   ]
  },
  {
   "cell_type": "code",
   "execution_count": 11,
   "metadata": {},
   "outputs": [
    {
     "data": {
      "text/plain": [
       "'blue'"
      ]
     },
     "execution_count": 11,
     "metadata": {},
     "output_type": "execute_result"
    }
   ],
   "source": [
    "neighbor_color"
   ]
  },
  {
   "cell_type": "code",
   "execution_count": 15,
   "metadata": {},
   "outputs": [
    {
     "name": "stdout",
     "output_type": "stream",
     "text": [
      "Please enter your favorite number: 8\n"
     ]
    }
   ],
   "source": [
    "my_num=int(input('Please enter your favorite number: '))"
   ]
  },
  {
   "cell_type": "code",
   "execution_count": 16,
   "metadata": {},
   "outputs": [
    {
     "name": "stdout",
     "output_type": "stream",
     "text": [
      "10\n"
     ]
    }
   ],
   "source": [
    "print(2+my_num)"
   ]
  },
  {
   "cell_type": "code",
   "execution_count": 39,
   "metadata": {},
   "outputs": [],
   "source": [
    "def color_swapper():\n",
    "    my_color=input('Enter your favorite color: ')\n",
    "    neighbor_color=input('What is your favorite color: ')\n",
    "    my_color, neighbor_color=neighbor_color, my_color\n",
    "    print('My favorite color is: '+ my_color)\n",
    "    print('My neighbors favorite color is: ' + neighbor_color)"
   ]
  },
  {
   "cell_type": "code",
   "execution_count": 40,
   "metadata": {},
   "outputs": [
    {
     "name": "stdout",
     "output_type": "stream",
     "text": [
      "Enter your favorite color: blue\n",
      "What is your favorite color: green\n",
      "My favorite color is: green\n",
      "My neighbors favorite color is: blue\n"
     ]
    }
   ],
   "source": [
    "color_swapper()"
   ]
  },
  {
   "cell_type": "code",
   "execution_count": 60,
   "metadata": {},
   "outputs": [],
   "source": [
    "def grocery_list(x):\n",
    "    grocery_item=['banana','orange', 'apple', 'mango', 'candy']\n",
    "    if x in grocery_item:\n",
    "        return True\n",
    "    else:\n",
    "        return False"
   ]
  },
  {
   "cell_type": "code",
   "execution_count": 66,
   "metadata": {},
   "outputs": [
    {
     "data": {
      "text/plain": [
       "False"
      ]
     },
     "execution_count": 66,
     "metadata": {},
     "output_type": "execute_result"
    }
   ],
   "source": [
    "grocery_list('cake')"
   ]
  }
 ],
 "metadata": {
  "kernelspec": {
   "display_name": "Python 3",
   "language": "python",
   "name": "python3"
  },
  "language_info": {
   "codemirror_mode": {
    "name": "ipython",
    "version": 3
   },
   "file_extension": ".py",
   "mimetype": "text/x-python",
   "name": "python",
   "nbconvert_exporter": "python",
   "pygments_lexer": "ipython3",
   "version": "3.8.5"
  }
 },
 "nbformat": 4,
 "nbformat_minor": 4
}
